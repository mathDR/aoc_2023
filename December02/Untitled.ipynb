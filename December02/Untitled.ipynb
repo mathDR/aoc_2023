{
 "cells": [
  {
   "cell_type": "code",
   "execution_count": null,
   "id": "7d65a1b5",
   "metadata": {},
   "outputs": [],
   "source": [
    "# 12 red cubes, 13 green cubes, and 14 blue cubes"
   ]
  },
  {
   "cell_type": "code",
   "execution_count": 1,
   "id": "bfa7cc71",
   "metadata": {},
   "outputs": [],
   "source": [
    "bounds = [14,12,13]"
   ]
  },
  {
   "cell_type": "code",
   "execution_count": 2,
   "id": "be511823",
   "metadata": {},
   "outputs": [],
   "source": [
    "def analyze(tr):\n",
    "    blue = 0\n",
    "    red = 0\n",
    "    green = 0\n",
    "    for tr in game.split(','):\n",
    "        if 'blue' in tr:\n",
    "            blue = int(tr.split('blue')[0].strip(' '))\n",
    "        if 'red' in tr:\n",
    "            red = int(tr.split('red')[0].strip(' '))\n",
    "        if 'green' in tr:\n",
    "            green = int(tr.split('green')[0].strip(' '))\n",
    "    return blue, red, green   "
   ]
  },
  {
   "cell_type": "code",
   "execution_count": 8,
   "id": "1c1b0d9b",
   "metadata": {},
   "outputs": [
    {
     "name": "stdout",
     "output_type": "stream",
     "text": [
      "77021\n"
     ]
    }
   ],
   "source": [
    "power_sum = 0\n",
    "with open(\"input.txt\") as input_text:\n",
    "    for line in input_text:\n",
    "        game_number = int(line.split(':')[0].split(' ')[-1])\n",
    "        games = line.strip('\\n').split(':')[1].split(';')\n",
    "        mb = 0\n",
    "        mr = 0\n",
    "        mg = 0\n",
    "        for game in games:\n",
    "            blue, red, green = analyze(game)\n",
    "            if blue > mb: \n",
    "                mb = blue\n",
    "            if red > mr:\n",
    "                mr = red\n",
    "            if green > mg:\n",
    "                mg = green\n",
    "        power_sum += mb*mr*mg\n",
    "    print(power_sum)"
   ]
  },
  {
   "cell_type": "code",
   "execution_count": 8,
   "id": "7fc8e0b8",
   "metadata": {},
   "outputs": [
    {
     "data": {
      "text/plain": [
       "[' 3 blue, 4 red', ' 1 red, 2 green, 6 blue', ' 2 green']"
      ]
     },
     "execution_count": 8,
     "metadata": {},
     "output_type": "execute_result"
    }
   ],
   "source": [
    "games"
   ]
  },
  {
   "cell_type": "code",
   "execution_count": 20,
   "id": "e4311562",
   "metadata": {},
   "outputs": [
    {
     "name": "stdout",
     "output_type": "stream",
     "text": [
      "3 4 0\n",
      "6 1 2\n",
      "0 0 2\n"
     ]
    }
   ],
   "source": [
    "for game in games:\n",
    "    blue, red, green = analyze(game)\n",
    "    print(blue,red,green)"
   ]
  },
  {
   "cell_type": "code",
   "execution_count": 15,
   "id": "90f0db76",
   "metadata": {},
   "outputs": [
    {
     "name": "stdout",
     "output_type": "stream",
     "text": [
      "3\n"
     ]
    }
   ],
   "source": []
  },
  {
   "cell_type": "code",
   "execution_count": null,
   "id": "42c79680",
   "metadata": {},
   "outputs": [],
   "source": []
  }
 ],
 "metadata": {
  "kernelspec": {
   "display_name": "Python 3 (ipykernel)",
   "language": "python",
   "name": "python3"
  },
  "language_info": {
   "codemirror_mode": {
    "name": "ipython",
    "version": 3
   },
   "file_extension": ".py",
   "mimetype": "text/x-python",
   "name": "python",
   "nbconvert_exporter": "python",
   "pygments_lexer": "ipython3",
   "version": "3.9.10"
  }
 },
 "nbformat": 4,
 "nbformat_minor": 5
}
