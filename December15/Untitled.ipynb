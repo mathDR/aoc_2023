{
 "cells": [
  {
   "cell_type": "code",
   "execution_count": 1,
   "id": "fa523118",
   "metadata": {},
   "outputs": [],
   "source": [
    "def compute_hash(v):\n",
    "    current_value = 0\n",
    "    for c in v:\n",
    "        current_value += ord(c)\n",
    "        current_value *= 17\n",
    "        current_value = current_value % 256\n",
    "    return current_value"
   ]
  },
  {
   "cell_type": "code",
   "execution_count": 2,
   "id": "4f749313",
   "metadata": {},
   "outputs": [
    {
     "name": "stdout",
     "output_type": "stream",
     "text": [
      "519041\n"
     ]
    }
   ],
   "source": [
    "# Part 1\n",
    "with open(\"input.txt\") as input_text:\n",
    "    total_sum = 0\n",
    "    for line in input_text:\n",
    "        vals = line.strip('\\n').split(',')\n",
    "        for v in vals:\n",
    "            total_sum += compute_hash(v)\n",
    "    print(total_sum)"
   ]
  },
  {
   "cell_type": "code",
   "execution_count": 3,
   "id": "0074bf70",
   "metadata": {},
   "outputs": [],
   "source": [
    "## Part 2\n",
    "from collections import defaultdict\n",
    "\n",
    "boxes = defaultdict(list)\n",
    "\n",
    "for v in vals:\n",
    "    if '-' in v:\n",
    "        label = v.split('-')[0]\n",
    "        box = compute_hash(label)\n",
    "        for lab, focal in boxes[box]:\n",
    "            focal = int(focal)\n",
    "            if lab == label:\n",
    "                boxes[box].remove([lab,focal])\n",
    "\n",
    "    if '=' in v:\n",
    "        label, focal = v.split('=')\n",
    "        box = compute_hash(label)\n",
    "        for i, (lab, foc) in enumerate(boxes[box]):\n",
    "            if lab == label:\n",
    "                boxes[box][i] = [label,int(focal)]\n",
    "                break\n",
    "        else:\n",
    "            boxes[box].append( [label,int(focal)] )\n",
    "\n",
    "focusingpower = 0\n",
    "for nbox in range(256):\n",
    "    for nlens, (lab,focal) in enumerate(boxes[nbox]):\n",
    "        focusingpower += (nbox+1)*(nlens+1)*focal"
   ]
  },
  {
   "cell_type": "code",
   "execution_count": 4,
   "id": "8ff8bd4d",
   "metadata": {},
   "outputs": [
    {
     "name": "stdout",
     "output_type": "stream",
     "text": [
      "260530\n"
     ]
    }
   ],
   "source": [
    "print(focusingpower)"
   ]
  },
  {
   "cell_type": "code",
   "execution_count": null,
   "id": "9522cb7b",
   "metadata": {},
   "outputs": [],
   "source": []
  }
 ],
 "metadata": {
  "kernelspec": {
   "display_name": "Python 3 (ipykernel)",
   "language": "python",
   "name": "python3"
  },
  "language_info": {
   "codemirror_mode": {
    "name": "ipython",
    "version": 3
   },
   "file_extension": ".py",
   "mimetype": "text/x-python",
   "name": "python",
   "nbconvert_exporter": "python",
   "pygments_lexer": "ipython3",
   "version": "3.9.10"
  }
 },
 "nbformat": 4,
 "nbformat_minor": 5
}
