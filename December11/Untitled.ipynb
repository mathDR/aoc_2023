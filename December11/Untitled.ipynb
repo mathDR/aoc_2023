{
 "cells": [
  {
   "cell_type": "code",
   "execution_count": 1,
   "id": "ab29b06d",
   "metadata": {},
   "outputs": [],
   "source": [
    "import os"
   ]
  },
  {
   "cell_type": "code",
   "execution_count": 2,
   "id": "5e5cc36f",
   "metadata": {},
   "outputs": [],
   "source": [
    "with open(\"input.txt\", \"r\") as file:\n",
    "    grid = file.read().strip().split(\"\\n\")"
   ]
  },
  {
   "cell_type": "code",
   "execution_count": 3,
   "id": "1ea00d9c",
   "metadata": {},
   "outputs": [
    {
     "data": {
      "text/plain": [
       "'..............................#.........................#.......................#..............................#.........................#..'"
      ]
     },
     "execution_count": 3,
     "metadata": {},
     "output_type": "execute_result"
    }
   ],
   "source": [
    "transpose_grid = []"
   ]
  },
  {
   "cell_type": "code",
   "execution_count": 5,
   "id": "2c75bdee",
   "metadata": {},
   "outputs": [
    {
     "data": {
      "text/plain": [
       "'#####'"
      ]
     },
     "execution_count": 5,
     "metadata": {},
     "output_type": "execute_result"
    }
   ],
   "source": [
    "grid[0].replace('.','')"
   ]
  },
  {
   "cell_type": "code",
   "execution_count": 8,
   "id": "af81d9bd",
   "metadata": {},
   "outputs": [
    {
     "data": {
      "text/plain": [
       "140"
      ]
     },
     "execution_count": 8,
     "metadata": {},
     "output_type": "execute_result"
    }
   ],
   "source": [
    "# Go through grid and find galaxies (keeping track of empty rows and columns)\n",
    "expanded_rows = []\n",
    "expanded_cols = list(range(len(grid)))\n",
    "galaxies = []\n",
    "for i in range(len(grid)):\n",
    "    g = grid[i]\n",
    "    if len(g.replace('.','')) == 0:\n",
    "        expanded_rows.extend(i)\n",
    "    expanded_grid_rows.append(g)"
   ]
  },
  {
   "cell_type": "code",
   "execution_count": 6,
   "id": "1f75d950",
   "metadata": {},
   "outputs": [],
   "source": [
    "def p(const):\n",
    "    ans = 0\n",
    "    l, c = set(), set()\n",
    "    pos = []\n",
    "\n",
    "    with open('input.txt', 'r') as f:\n",
    "        input = f.read().split('\\n')\n",
    "\n",
    "    for i in range(len(input[0])):\n",
    "        if ''.join([s[i] for s in input]).find('#') == -1:\n",
    "            c.add(i)\n",
    "    for i, line in enumerate(input):\n",
    "        if line.find('#') == -1:\n",
    "            l.add(i)\n",
    "        else:\n",
    "            offset = 0\n",
    "            while True:\n",
    "                y = line.find('#', offset)\n",
    "                if y != -1:\n",
    "                    pos.append((i, y))\n",
    "                    offset = y + 1\n",
    "                else:\n",
    "                    break\n",
    "\n",
    "    for i in range(len(pos)):\n",
    "        for j in range(i + 1, len(pos)):\n",
    "            dist_x = sum(1 for e in range(min(pos[i][0], pos[j][0]), max(pos[i][0], pos[j][0])) if e in l) * const\n",
    "            dist_y = sum(1 for e in range(min(pos[i][1], pos[j][1]), max(pos[i][1], pos[j][1])) if e in c) * const\n",
    "            ans += abs(pos[i][0] - pos[j][0]) + abs(pos[i][1] - pos[j][1]) + dist_x + dist_y\n",
    "    \n",
    "    return ans\n"
   ]
  },
  {
   "cell_type": "code",
   "execution_count": 7,
   "id": "252082c1",
   "metadata": {},
   "outputs": [
    {
     "name": "stdout",
     "output_type": "stream",
     "text": [
      "9627977\n"
     ]
    }
   ],
   "source": [
    "print(p(const=2 - 1))\n",
    "print(p(const=1000000 - 1))"
   ]
  },
  {
   "cell_type": "code",
   "execution_count": 8,
   "id": "b63f9799",
   "metadata": {},
   "outputs": [
    {
     "name": "stdout",
     "output_type": "stream",
     "text": [
      "644248339497\n"
     ]
    }
   ],
   "source": [
    "print(p(const=1000000 - 1))"
   ]
  },
  {
   "cell_type": "code",
   "execution_count": null,
   "id": "75630de0",
   "metadata": {},
   "outputs": [],
   "source": []
  }
 ],
 "metadata": {
  "kernelspec": {
   "display_name": "Python 3 (ipykernel)",
   "language": "python",
   "name": "python3"
  },
  "language_info": {
   "codemirror_mode": {
    "name": "ipython",
    "version": 3
   },
   "file_extension": ".py",
   "mimetype": "text/x-python",
   "name": "python",
   "nbconvert_exporter": "python",
   "pygments_lexer": "ipython3",
   "version": "3.9.10"
  }
 },
 "nbformat": 4,
 "nbformat_minor": 5
}
