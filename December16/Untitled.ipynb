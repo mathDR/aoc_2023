{
 "cells": [
  {
   "cell_type": "code",
   "execution_count": 26,
   "id": "a95bf933",
   "metadata": {},
   "outputs": [],
   "source": [
    "def readInput16(infile):\n",
    "    with open(infile) as f:\n",
    "        return [ l.strip(\"\\n\") for l in f.readlines() ]"
   ]
  },
  {
   "cell_type": "code",
   "execution_count": 27,
   "id": "0fc2d104",
   "metadata": {},
   "outputs": [],
   "source": [
    "from queue import Queue\n",
    "from collections import defaultdict\n",
    "\n",
    "# directions (dx,dy)\n",
    "dirs = {\"N\": (0,-1), \"W\": (-1,0), \"S\": (0,+1), \"E\": (+1,0)}\n",
    "\n",
    "def propagate_beam(grid,start=((-1,0),\"E\"),verbose=False):\n",
    "\n",
    "    q = Queue()\n",
    "    energized = defaultdict(set)\n",
    "    q.put(start)\n",
    "\n",
    "    while not q.empty():\n",
    "            \n",
    "        # get current light beam from queue and try to move it to next position\n",
    "        (x,y),m = q.get()\n",
    "        \n",
    "        xnext, ynext = x+dirs[m][0], y+dirs[m][1]\n",
    "        pnext = (xnext,ynext)\n",
    "        \n",
    "        # next position is outside the grid, discard light beam\n",
    "        if xnext<0 or xnext>=len(grid[0]) or ynext<0 or ynext>=len(grid):\n",
    "            if verbose: print(\"out of grid\")\n",
    "            continue\n",
    "        \n",
    "        if verbose: print(pnext,grid[ynext][xnext],m)\n",
    "\n",
    "        # discard if a beam already passed in this position with this direction to avoid light loops\n",
    "        if m in energized[pnext]:\n",
    "            continue\n",
    "            \n",
    "        energized[pnext].add(m)\n",
    "        \n",
    "        if grid[ynext][xnext]==\".\": # continue in same direction\n",
    "            q.put((pnext,m)) \n",
    "\n",
    "        elif grid[ynext][xnext]==\"|\":\n",
    "            if m==\"N\" or m==\"S\": # if coming from N or S continue in same direction\n",
    "                q.put((pnext,m)) \n",
    "            elif m==\"E\" or m==\"W\": # if coming from E or W, split N and S\n",
    "                q.put((pnext,\"N\"))\n",
    "                q.put((pnext,\"S\"))\n",
    "\n",
    "        elif grid[ynext][xnext]==\"-\":\n",
    "            if m==\"W\" or m==\"E\": # if coming from W or E continue in same direction\n",
    "                q.put((pnext,m)) \n",
    "            elif m==\"N\" or m==\"S\": # if coming from N or S, split W and E\n",
    "                q.put((pnext,\"W\"))\n",
    "                q.put((pnext,\"E\"))           \n",
    "\n",
    "        elif grid[ynext][xnext]=='/':\n",
    "            if m==\"E\": # -> N\n",
    "                q.put((pnext,\"N\"))\n",
    "            if m==\"S\": # -> W\n",
    "                q.put((pnext,\"W\"))\n",
    "            if m==\"W\": # -> S\n",
    "                q.put((pnext,\"S\"))\n",
    "            if m==\"N\": # -> E\n",
    "                q.put((pnext,\"E\"))  \n",
    "\n",
    "        elif grid[ynext][xnext]=='\\\\':\n",
    "            if m==\"E\": # -> S\n",
    "                q.put((pnext,\"S\"))\n",
    "            if m==\"S\": # -> E\n",
    "                q.put((pnext,\"E\"))  \n",
    "            if m==\"W\": # -> N\n",
    "                q.put((pnext,\"N\"))\n",
    "            if m==\"N\": # -> W                \n",
    "                q.put((pnext,\"W\"))\n",
    "        \n",
    "    return energized\n",
    "\n",
    "def part1(infile):\n",
    "    grid = readInput16(infile)\n",
    "    energized = propagate_beam(grid)\n",
    "    return len(energized.keys())"
   ]
  },
  {
   "cell_type": "code",
   "execution_count": 29,
   "id": "4f749313",
   "metadata": {},
   "outputs": [
    {
     "name": "stdout",
     "output_type": "stream",
     "text": [
      "Test 1: 7543\n"
     ]
    }
   ],
   "source": [
    "print(\"Test 1:\",part1(\"input.txt\"))"
   ]
  },
  {
   "cell_type": "code",
   "execution_count": 30,
   "id": "590be461",
   "metadata": {},
   "outputs": [],
   "source": [
    "def part2(infile):\n",
    "    grid = readInput16(infile)\n",
    "    \n",
    "    starts  = [ ((x,-1),\"S\") for x in range(len(grid[0])) ] # top\n",
    "    starts += [ ((-1,y),\"E\") for y in range(len(grid))    ] # left\n",
    "    starts += [ ((x,len(grid)),\"N\") for x in range(len(grid[0])) ] # bottom\n",
    "    starts += [ ((len(grid[0]),y),\"E\") for y in range(len(grid)) ] # left\n",
    "    \n",
    "    energ = []\n",
    "    for s in starts:\n",
    "        energized = propagate_beam(grid,s)\n",
    "        energ.append(len(energized.keys()))\n",
    "    \n",
    "    return max(energ)"
   ]
  },
  {
   "cell_type": "code",
   "execution_count": 31,
   "id": "2e667803",
   "metadata": {},
   "outputs": [
    {
     "name": "stdout",
     "output_type": "stream",
     "text": [
      "Test 1: 8231\n"
     ]
    }
   ],
   "source": [
    "print(\"Test 1:\",part2(\"input.txt\"))"
   ]
  },
  {
   "cell_type": "code",
   "execution_count": null,
   "id": "3e487ef7",
   "metadata": {},
   "outputs": [],
   "source": []
  }
 ],
 "metadata": {
  "kernelspec": {
   "display_name": "Python 3 (ipykernel)",
   "language": "python",
   "name": "python3"
  },
  "language_info": {
   "codemirror_mode": {
    "name": "ipython",
    "version": 3
   },
   "file_extension": ".py",
   "mimetype": "text/x-python",
   "name": "python",
   "nbconvert_exporter": "python",
   "pygments_lexer": "ipython3",
   "version": "3.9.10"
  }
 },
 "nbformat": 4,
 "nbformat_minor": 5
}
