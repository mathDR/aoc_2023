{
 "cells": [
  {
   "cell_type": "code",
   "execution_count": 1,
   "id": "d406b942",
   "metadata": {},
   "outputs": [],
   "source": [
    "def parse_line_1(line):\n",
    "    line = line.strip('\\n')\n",
    "    return [int(t) for t in line.split(':')[1].strip().split(' ') if t != '']"
   ]
  },
  {
   "cell_type": "code",
   "execution_count": 2,
   "id": "781b489d",
   "metadata": {},
   "outputs": [],
   "source": [
    "def parse_data_1(times,dists):\n",
    "    val = 1\n",
    "    for j in range(len(dists)):\n",
    "        d = dists[j]\n",
    "        t = times[j]\n",
    "        val *= sum([i*(t-i)>d for i in range(t+1)])\n",
    "    return(val)"
   ]
  },
  {
   "cell_type": "code",
   "execution_count": 3,
   "id": "b965545f",
   "metadata": {},
   "outputs": [
    {
     "name": "stdout",
     "output_type": "stream",
     "text": [
      "5133600\n"
     ]
    }
   ],
   "source": [
    "# Part 1\n",
    "with open(\"input.txt\") as input_text:\n",
    "    for line in input_text:\n",
    "        if 'Time' in line:\n",
    "            times = parse_line_1(line)\n",
    "        if 'Distance' in line:\n",
    "            dists = parse_line_1(line)\n",
    "    print(parse_data_1(times,dists))\n"
   ]
  },
  {
   "cell_type": "code",
   "execution_count": 4,
   "id": "1cb52bc1",
   "metadata": {},
   "outputs": [],
   "source": [
    "def parse_line_2(line):\n",
    "    line = line.strip('\\n')\n",
    "    return int(''.join([t for t in line.split(':')[1].strip().split(' ') if t != '']))"
   ]
  },
  {
   "cell_type": "code",
   "execution_count": 7,
   "id": "f7905f57",
   "metadata": {},
   "outputs": [],
   "source": [
    "def parse_data_1(t,d):\n",
    "    val = 1\n",
    "    return sum([i*(t-i)>d for i in range(t+1)])"
   ]
  },
  {
   "cell_type": "code",
   "execution_count": 5,
   "id": "73fa613d",
   "metadata": {},
   "outputs": [],
   "source": [
    "# Part 2\n",
    "with open(\"test1.txt\") as input_text:\n",
    "    for line in input_text:\n",
    "        if 'Time' in line:\n",
    "            times = parse_line_2(line)\n",
    "        if 'Distance' in line:\n",
    "            dists = parse_line_2(line)\n",
    "    #print(parse_data_1(times,dists))"
   ]
  },
  {
   "cell_type": "code",
   "execution_count": 6,
   "id": "ee574749",
   "metadata": {},
   "outputs": [
    {
     "ename": "TypeError",
     "evalue": "object of type 'int' has no len()",
     "output_type": "error",
     "traceback": [
      "\u001b[0;31m---------------------------------------------------------------------------\u001b[0m",
      "\u001b[0;31mTypeError\u001b[0m                                 Traceback (most recent call last)",
      "Cell \u001b[0;32mIn [6], line 1\u001b[0m\n\u001b[0;32m----> 1\u001b[0m \u001b[43mparse_data_1\u001b[49m\u001b[43m(\u001b[49m\u001b[43mtimes\u001b[49m\u001b[43m,\u001b[49m\u001b[43mdists\u001b[49m\u001b[43m)\u001b[49m\n",
      "Cell \u001b[0;32mIn [2], line 3\u001b[0m, in \u001b[0;36mparse_data_1\u001b[0;34m(times, dists)\u001b[0m\n\u001b[1;32m      1\u001b[0m \u001b[38;5;28;01mdef\u001b[39;00m \u001b[38;5;21mparse_data_1\u001b[39m(times,dists):\n\u001b[1;32m      2\u001b[0m     val \u001b[38;5;241m=\u001b[39m \u001b[38;5;241m1\u001b[39m\n\u001b[0;32m----> 3\u001b[0m     \u001b[38;5;28;01mfor\u001b[39;00m j \u001b[38;5;129;01min\u001b[39;00m \u001b[38;5;28mrange\u001b[39m(\u001b[38;5;28;43mlen\u001b[39;49m\u001b[43m(\u001b[49m\u001b[43mdists\u001b[49m\u001b[43m)\u001b[49m):\n\u001b[1;32m      4\u001b[0m         d \u001b[38;5;241m=\u001b[39m dists[j]\n\u001b[1;32m      5\u001b[0m         t \u001b[38;5;241m=\u001b[39m times[j]\n",
      "\u001b[0;31mTypeError\u001b[0m: object of type 'int' has no len()"
     ]
    }
   ],
   "source": [
    "parse_data_1(times,dists)"
   ]
  },
  {
   "cell_type": "code",
   "execution_count": null,
   "id": "48c3ab1b",
   "metadata": {},
   "outputs": [],
   "source": [
    "sum([i*(t-i)>d for i in range(t+1)])"
   ]
  }
 ],
 "metadata": {
  "kernelspec": {
   "display_name": "Python 3 (ipykernel)",
   "language": "python",
   "name": "python3"
  },
  "language_info": {
   "codemirror_mode": {
    "name": "ipython",
    "version": 3
   },
   "file_extension": ".py",
   "mimetype": "text/x-python",
   "name": "python",
   "nbconvert_exporter": "python",
   "pygments_lexer": "ipython3",
   "version": "3.9.10"
  }
 },
 "nbformat": 4,
 "nbformat_minor": 5
}
