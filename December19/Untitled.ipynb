{
 "cells": [
  {
   "cell_type": "code",
   "execution_count": 2,
   "id": "a315c943",
   "metadata": {},
   "outputs": [],
   "source": [
    "with open(\"test1.txt\", \"r\") as infile:\n",
    "    workflows = []\n",
    "    ratings = []\n",
    "    skip_line = False\n",
    "    for line in infile:\n",
    "        if skip_line:\n",
    "            ratings.append(get_rating(line))\n",
    "        else:\n",
    "            if line=='\\n':\n",
    "                skip_line = True\n",
    "                continue\n",
    "            break\n",
    "            workflows.append(get_workflow(line))"
   ]
  },
  {
   "cell_type": "code",
   "execution_count": 3,
   "id": "4b246f4f",
   "metadata": {},
   "outputs": [
    {
     "data": {
      "text/plain": [
       "'px{a<2006:qkq,m>2090:A,rfg}\\n'"
      ]
     },
     "execution_count": 3,
     "metadata": {},
     "output_type": "execute_result"
    }
   ],
   "source": [
    "line"
   ]
  },
  {
   "cell_type": "code",
   "execution_count": 4,
   "id": "bc506323",
   "metadata": {},
   "outputs": [],
   "source": [
    "line = line.strip('\\n')"
   ]
  },
  {
   "cell_type": "code",
   "execution_count": 6,
   "id": "2890f683",
   "metadata": {},
   "outputs": [],
   "source": [
    "key = line.split('{')[0]"
   ]
  },
  {
   "cell_type": "code",
   "execution_count": 17,
   "id": "0d9262ba",
   "metadata": {},
   "outputs": [
    {
     "ename": "IndentationError",
     "evalue": "expected an indented block (976443849.py, line 4)",
     "output_type": "error",
     "traceback": [
      "\u001b[0;36m  Cell \u001b[0;32mIn [17], line 4\u001b[0;36m\u001b[0m\n\u001b[0;31m    if len(z)==2:\u001b[0m\n\u001b[0m                 ^\u001b[0m\n\u001b[0;31mIndentationError\u001b[0m\u001b[0;31m:\u001b[0m expected an indented block\n"
     ]
    }
   ],
   "source": [
    "vals = line.split('{')[1].split('}')[0].split(',')\n",
    "for v in vals:\n",
    "    z = v.split(':')\n",
    "    if len(z)==2:"
   ]
  },
  {
   "cell_type": "code",
   "execution_count": 14,
   "id": "ad2b7832",
   "metadata": {},
   "outputs": [],
   "source": [
    "a1,b1 = vals[0].split(':')"
   ]
  },
  {
   "cell_type": "code",
   "execution_count": 13,
   "id": "032bc73d",
   "metadata": {},
   "outputs": [],
   "source": [
    "x=787;m=2655;a=1222;s=2876"
   ]
  },
  {
   "cell_type": "code",
   "execution_count": 15,
   "id": "e4317aa2",
   "metadata": {},
   "outputs": [
    {
     "data": {
      "text/plain": [
       "True"
      ]
     },
     "execution_count": 15,
     "metadata": {},
     "output_type": "execute_result"
    }
   ],
   "source": [
    "if(eval(a1)):b1,elif"
   ]
  },
  {
   "cell_type": "code",
   "execution_count": 16,
   "id": "1488e6eb",
   "metadata": {},
   "outputs": [
    {
     "data": {
      "text/plain": [
       "'a<2006'"
      ]
     },
     "execution_count": 16,
     "metadata": {},
     "output_type": "execute_result"
    }
   ],
   "source": [
    "a1"
   ]
  },
  {
   "cell_type": "code",
   "execution_count": null,
   "id": "80d6e8ab",
   "metadata": {},
   "outputs": [],
   "source": []
  }
 ],
 "metadata": {
  "kernelspec": {
   "display_name": "Python 3 (ipykernel)",
   "language": "python",
   "name": "python3"
  },
  "language_info": {
   "codemirror_mode": {
    "name": "ipython",
    "version": 3
   },
   "file_extension": ".py",
   "mimetype": "text/x-python",
   "name": "python",
   "nbconvert_exporter": "python",
   "pygments_lexer": "ipython3",
   "version": "3.9.10"
  }
 },
 "nbformat": 4,
 "nbformat_minor": 5
}
