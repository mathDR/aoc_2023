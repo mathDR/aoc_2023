{
 "cells": [
  {
   "cell_type": "code",
   "execution_count": 18,
   "id": "b965545f",
   "metadata": {},
   "outputs": [
    {
     "name": "stdout",
     "output_type": "stream",
     "text": [
      "346433842\n"
     ]
    }
   ],
   "source": [
    "# Part 1\n",
    "with open(\"test1.txt\") as input_text:\n",
    "    for line in input_text:\n",
    "        if 'Time' in line:\n",
    "            times = parse_time(line)\n",
    "            continue\n",
    "        if 'map' in line:\n",
    "            map_name = get_map_name(line)\n",
    "            continue\n",
    "        dd = parse_line(line)\n",
    "        mappings[map_name].append(dd)\n",
    "        \n",
    "    locs = get_locations_1(seeds,mappings)\n",
    "    print(min(locs))"
   ]
  }
 ],
 "metadata": {
  "kernelspec": {
   "display_name": "Python 3 (ipykernel)",
   "language": "python",
   "name": "python3"
  },
  "language_info": {
   "codemirror_mode": {
    "name": "ipython",
    "version": 3
   },
   "file_extension": ".py",
   "mimetype": "text/x-python",
   "name": "python",
   "nbconvert_exporter": "python",
   "pygments_lexer": "ipython3",
   "version": "3.9.10"
  }
 },
 "nbformat": 4,
 "nbformat_minor": 5
}
