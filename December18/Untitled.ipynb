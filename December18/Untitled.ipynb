{
 "cells": [
  {
   "cell_type": "code",
   "execution_count": 1,
   "id": "d6e2c98c",
   "metadata": {},
   "outputs": [],
   "source": [
    "directions = {'R': (0, 1), 'D': (1, 0), 'L': (0, -1), 'U': (-1, 0)}"
   ]
  },
  {
   "cell_type": "code",
   "execution_count": 2,
   "id": "b228bed1",
   "metadata": {},
   "outputs": [],
   "source": [
    "def extend_hole(start, end, length):\n",
    "    return (start[0] + end[0] * length, start[1] + end[1] * length)"
   ]
  },
  {
   "cell_type": "code",
   "execution_count": 10,
   "id": "a315c943",
   "metadata": {},
   "outputs": [
    {
     "name": "stdout",
     "output_type": "stream",
     "text": [
      "39039.0\n"
     ]
    }
   ],
   "source": [
    "with open(\"input.txt\", \"r\") as infile:\n",
    "    digplan = []\n",
    "    for line in infile:\n",
    "        line = line.strip('\\n').split(' ')\n",
    "        d = directions[line[0]]\n",
    "        length = int(line[1])\n",
    "        digplan.append((d,length))\n",
    "    hole_edge = [(0, 0)]\n",
    "    last = (0, 0)\n",
    "    border_length = 1\n",
    "    for (direction, length) in digplan:\n",
    "        next_position = extend_hole(last, direction, length)\n",
    "        border_length += length\n",
    "        hole_edge.append(next_position)\n",
    "        last = next_position\n",
    "    area = 0\n",
    "    for i in range(1, len(hole_edge)):\n",
    "        x1, y1 = hole_edge[i - 1]\n",
    "        x2, y2 = hole_edge[i]\n",
    "        area += (y1 + y2) * (x1 - x2)\n",
    "\n",
    "    area = (abs(area) + border_length + 1) / 2\n",
    "    print(area)"
   ]
  },
  {
   "cell_type": "code",
   "execution_count": 11,
   "id": "c9a45736",
   "metadata": {},
   "outputs": [],
   "source": [
    "# Part 2"
   ]
  },
  {
   "cell_type": "code",
   "execution_count": 12,
   "id": "632a625f",
   "metadata": {},
   "outputs": [],
   "source": [
    "directions = {'0': (0, 1), '1': (1, 0), '2': (0, -1), '3': (-1, 0)}"
   ]
  },
  {
   "cell_type": "code",
   "execution_count": 14,
   "id": "c724f468",
   "metadata": {},
   "outputs": [
    {
     "name": "stdout",
     "output_type": "stream",
     "text": [
      "44644464596918.0\n"
     ]
    }
   ],
   "source": [
    "with open(\"input.txt\", \"r\") as infile:\n",
    "    digplan = []\n",
    "    for line in infile:\n",
    "        hexidecimal = line.strip().split(\" \")[2][2:-1]\n",
    "        length = int(hexidecimal[:5], 16)\n",
    "        d = directions[hexidecimal[5]]\n",
    "        digplan.append((d, length))\n",
    "    hole_edge = [(0, 0)]\n",
    "    last = (0, 0)\n",
    "    border_length = 1\n",
    "    for (direction, length) in digplan:\n",
    "        next_position = extend_hole(last, direction, length)\n",
    "        border_length += length\n",
    "        hole_edge.append(next_position)\n",
    "        last = next_position\n",
    "    area = 0\n",
    "    for i in range(1, len(hole_edge)):\n",
    "        x1, y1 = hole_edge[i - 1]\n",
    "        x2, y2 = hole_edge[i]\n",
    "        area += (y1 + y2) * (x1 - x2)\n",
    "\n",
    "    area = (abs(area) + border_length + 1) / 2\n",
    "    print(area)"
   ]
  }
 ],
 "metadata": {
  "kernelspec": {
   "display_name": "Python 3 (ipykernel)",
   "language": "python",
   "name": "python3"
  },
  "language_info": {
   "codemirror_mode": {
    "name": "ipython",
    "version": 3
   },
   "file_extension": ".py",
   "mimetype": "text/x-python",
   "name": "python",
   "nbconvert_exporter": "python",
   "pygments_lexer": "ipython3",
   "version": "3.9.10"
  }
 },
 "nbformat": 4,
 "nbformat_minor": 5
}
