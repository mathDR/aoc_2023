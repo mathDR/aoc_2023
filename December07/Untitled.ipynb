{
 "cells": [
  {
   "cell_type": "code",
   "execution_count": 22,
   "id": "b965545f",
   "metadata": {},
   "outputs": [],
   "source": [
    "# Part 1\n",
    "with open(\"test1.txt\") as input_text:\n",
    "    moves_flag = True\n",
    "    nodes = {}\n",
    "    for line in input_text:\n",
    "        if moves_flag:\n",
    "            break\n",
    "            moves_flag = False\n",
    "            moves = parse_moves_line(line)\n",
    "        elif line=='\\n':\n",
    "            continue\n",
    "        else:\n",
    "            nodes = update_nodes(line,nodes)\n",
    "            \n"
   ]
  },
  {
   "cell_type": "code",
   "execution_count": 23,
   "id": "9fe94ea3",
   "metadata": {},
   "outputs": [
    {
     "data": {
      "text/plain": [
       "'32T3K 765\\n'"
      ]
     },
     "execution_count": 23,
     "metadata": {},
     "output_type": "execute_result"
    }
   ],
   "source": [
    "line"
   ]
  },
  {
   "cell_type": "code",
   "execution_count": 5,
   "id": "05c6daf3",
   "metadata": {},
   "outputs": [
    {
     "data": {
      "text/plain": [
       "765"
      ]
     },
     "execution_count": 5,
     "metadata": {},
     "output_type": "execute_result"
    }
   ],
   "source": [
    "line.strip('\\n')\n",
    "h, b = line.split(' ')\n",
    "int(b)"
   ]
  },
  {
   "cell_type": "code",
   "execution_count": null,
   "id": "8585f71f",
   "metadata": {},
   "outputs": [],
   "source": []
  }
 ],
 "metadata": {
  "kernelspec": {
   "display_name": "Python 3 (ipykernel)",
   "language": "python",
   "name": "python3"
  },
  "language_info": {
   "codemirror_mode": {
    "name": "ipython",
    "version": 3
   },
   "file_extension": ".py",
   "mimetype": "text/x-python",
   "name": "python",
   "nbconvert_exporter": "python",
   "pygments_lexer": "ipython3",
   "version": "3.9.10"
  }
 },
 "nbformat": 4,
 "nbformat_minor": 5
}
